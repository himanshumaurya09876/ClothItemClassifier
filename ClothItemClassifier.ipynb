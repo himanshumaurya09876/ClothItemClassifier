{
 "cells": [
  {
   "cell_type": "markdown",
   "metadata": {},
   "source": [
    "# Clothing Items Classifier \n",
    "- Classify fashioning clothable items\n",
    "- Uses CNN (Convolutional Neural Network) and fashionMNIST dataset\n",
    "- Data collection\n",
    "- Data preprocessing\n",
    "- Modle building\n",
    "- Testing"
   ]
  },
  {
   "cell_type": "code",
   "execution_count": 1,
   "metadata": {},
   "outputs": [],
   "source": [
    "import numpy as np\n",
    "import pandas as pd\n",
    "import matplotlib.pyplot as plt\n",
    "from keras.utils import to_categorical\n",
    "from keras.models import Sequential,load_model\n",
    "from keras.layers import Dense,Conv2D,MaxPool2D,Dropout,Flatten"
   ]
  },
  {
   "cell_type": "markdown",
   "metadata": {},
   "source": [
    "## Data collection"
   ]
  },
  {
   "cell_type": "code",
   "execution_count": 2,
   "metadata": {},
   "outputs": [],
   "source": [
    "# Dictionaries to interconvert class of items and its label\n",
    "labelToClass={\n",
    "    0:'T-shirt/top',\n",
    "    1:'Trouser',\n",
    "    2:'Pullover',\n",
    "    3:'Dress',\n",
    "    4:'Coat',\n",
    "    5:'Sandal',\n",
    "    6:'Shirt',\n",
    "    7:'Sneaker',\n",
    "    8:'Bag',\n",
    "    9:'Ankle boot'\n",
    "}"
   ]
  },
  {
   "cell_type": "code",
   "execution_count": 3,
   "metadata": {},
   "outputs": [],
   "source": [
    "train=pd.read_csv('fashion-mnist_train.csv')\n",
    "test=pd.read_csv('fashion-mnist_test.csv')"
   ]
  },
  {
   "cell_type": "markdown",
   "metadata": {},
   "source": [
    "## Data preprocessing"
   ]
  },
  {
   "cell_type": "code",
   "execution_count": 4,
   "metadata": {},
   "outputs": [
    {
     "data": {
      "text/html": [
       "<div>\n",
       "<style scoped>\n",
       "    .dataframe tbody tr th:only-of-type {\n",
       "        vertical-align: middle;\n",
       "    }\n",
       "\n",
       "    .dataframe tbody tr th {\n",
       "        vertical-align: top;\n",
       "    }\n",
       "\n",
       "    .dataframe thead th {\n",
       "        text-align: right;\n",
       "    }\n",
       "</style>\n",
       "<table border=\"1\" class=\"dataframe\">\n",
       "  <thead>\n",
       "    <tr style=\"text-align: right;\">\n",
       "      <th></th>\n",
       "      <th>label</th>\n",
       "      <th>pixel1</th>\n",
       "      <th>pixel2</th>\n",
       "      <th>pixel3</th>\n",
       "      <th>pixel4</th>\n",
       "      <th>pixel5</th>\n",
       "      <th>pixel6</th>\n",
       "      <th>pixel7</th>\n",
       "      <th>pixel8</th>\n",
       "      <th>pixel9</th>\n",
       "      <th>...</th>\n",
       "      <th>pixel775</th>\n",
       "      <th>pixel776</th>\n",
       "      <th>pixel777</th>\n",
       "      <th>pixel778</th>\n",
       "      <th>pixel779</th>\n",
       "      <th>pixel780</th>\n",
       "      <th>pixel781</th>\n",
       "      <th>pixel782</th>\n",
       "      <th>pixel783</th>\n",
       "      <th>pixel784</th>\n",
       "    </tr>\n",
       "  </thead>\n",
       "  <tbody>\n",
       "    <tr>\n",
       "      <th>0</th>\n",
       "      <td>2</td>\n",
       "      <td>0</td>\n",
       "      <td>0</td>\n",
       "      <td>0</td>\n",
       "      <td>0</td>\n",
       "      <td>0</td>\n",
       "      <td>0</td>\n",
       "      <td>0</td>\n",
       "      <td>0</td>\n",
       "      <td>0</td>\n",
       "      <td>...</td>\n",
       "      <td>0</td>\n",
       "      <td>0</td>\n",
       "      <td>0</td>\n",
       "      <td>0</td>\n",
       "      <td>0</td>\n",
       "      <td>0</td>\n",
       "      <td>0</td>\n",
       "      <td>0</td>\n",
       "      <td>0</td>\n",
       "      <td>0</td>\n",
       "    </tr>\n",
       "    <tr>\n",
       "      <th>1</th>\n",
       "      <td>9</td>\n",
       "      <td>0</td>\n",
       "      <td>0</td>\n",
       "      <td>0</td>\n",
       "      <td>0</td>\n",
       "      <td>0</td>\n",
       "      <td>0</td>\n",
       "      <td>0</td>\n",
       "      <td>0</td>\n",
       "      <td>0</td>\n",
       "      <td>...</td>\n",
       "      <td>0</td>\n",
       "      <td>0</td>\n",
       "      <td>0</td>\n",
       "      <td>0</td>\n",
       "      <td>0</td>\n",
       "      <td>0</td>\n",
       "      <td>0</td>\n",
       "      <td>0</td>\n",
       "      <td>0</td>\n",
       "      <td>0</td>\n",
       "    </tr>\n",
       "    <tr>\n",
       "      <th>2</th>\n",
       "      <td>6</td>\n",
       "      <td>0</td>\n",
       "      <td>0</td>\n",
       "      <td>0</td>\n",
       "      <td>0</td>\n",
       "      <td>0</td>\n",
       "      <td>0</td>\n",
       "      <td>0</td>\n",
       "      <td>5</td>\n",
       "      <td>0</td>\n",
       "      <td>...</td>\n",
       "      <td>0</td>\n",
       "      <td>0</td>\n",
       "      <td>0</td>\n",
       "      <td>30</td>\n",
       "      <td>43</td>\n",
       "      <td>0</td>\n",
       "      <td>0</td>\n",
       "      <td>0</td>\n",
       "      <td>0</td>\n",
       "      <td>0</td>\n",
       "    </tr>\n",
       "    <tr>\n",
       "      <th>3</th>\n",
       "      <td>0</td>\n",
       "      <td>0</td>\n",
       "      <td>0</td>\n",
       "      <td>0</td>\n",
       "      <td>1</td>\n",
       "      <td>2</td>\n",
       "      <td>0</td>\n",
       "      <td>0</td>\n",
       "      <td>0</td>\n",
       "      <td>0</td>\n",
       "      <td>...</td>\n",
       "      <td>3</td>\n",
       "      <td>0</td>\n",
       "      <td>0</td>\n",
       "      <td>0</td>\n",
       "      <td>0</td>\n",
       "      <td>1</td>\n",
       "      <td>0</td>\n",
       "      <td>0</td>\n",
       "      <td>0</td>\n",
       "      <td>0</td>\n",
       "    </tr>\n",
       "    <tr>\n",
       "      <th>4</th>\n",
       "      <td>3</td>\n",
       "      <td>0</td>\n",
       "      <td>0</td>\n",
       "      <td>0</td>\n",
       "      <td>0</td>\n",
       "      <td>0</td>\n",
       "      <td>0</td>\n",
       "      <td>0</td>\n",
       "      <td>0</td>\n",
       "      <td>0</td>\n",
       "      <td>...</td>\n",
       "      <td>0</td>\n",
       "      <td>0</td>\n",
       "      <td>0</td>\n",
       "      <td>0</td>\n",
       "      <td>0</td>\n",
       "      <td>0</td>\n",
       "      <td>0</td>\n",
       "      <td>0</td>\n",
       "      <td>0</td>\n",
       "      <td>0</td>\n",
       "    </tr>\n",
       "  </tbody>\n",
       "</table>\n",
       "<p>5 rows × 785 columns</p>\n",
       "</div>"
      ],
      "text/plain": [
       "   label  pixel1  pixel2  pixel3  pixel4  pixel5  pixel6  pixel7  pixel8  \\\n",
       "0      2       0       0       0       0       0       0       0       0   \n",
       "1      9       0       0       0       0       0       0       0       0   \n",
       "2      6       0       0       0       0       0       0       0       5   \n",
       "3      0       0       0       0       1       2       0       0       0   \n",
       "4      3       0       0       0       0       0       0       0       0   \n",
       "\n",
       "   pixel9  ...  pixel775  pixel776  pixel777  pixel778  pixel779  pixel780  \\\n",
       "0       0  ...         0         0         0         0         0         0   \n",
       "1       0  ...         0         0         0         0         0         0   \n",
       "2       0  ...         0         0         0        30        43         0   \n",
       "3       0  ...         3         0         0         0         0         1   \n",
       "4       0  ...         0         0         0         0         0         0   \n",
       "\n",
       "   pixel781  pixel782  pixel783  pixel784  \n",
       "0         0         0         0         0  \n",
       "1         0         0         0         0  \n",
       "2         0         0         0         0  \n",
       "3         0         0         0         0  \n",
       "4         0         0         0         0  \n",
       "\n",
       "[5 rows x 785 columns]"
      ]
     },
     "execution_count": 4,
     "metadata": {},
     "output_type": "execute_result"
    }
   ],
   "source": [
    "train.head()"
   ]
  },
  {
   "cell_type": "code",
   "execution_count": 5,
   "metadata": {},
   "outputs": [
    {
     "name": "stdout",
     "output_type": "stream",
     "text": [
      "(60000, 785) (10000, 785)\n"
     ]
    }
   ],
   "source": [
    "print(train.shape,test.shape)"
   ]
  },
  {
   "cell_type": "code",
   "execution_count": 6,
   "metadata": {},
   "outputs": [],
   "source": [
    "xtrain=train.iloc[:,1:]\n",
    "ytrain=train['label']\n",
    "xtest=test.iloc[:,1:]\n",
    "ytest=test['label']"
   ]
  },
  {
   "cell_type": "code",
   "execution_count": 7,
   "metadata": {},
   "outputs": [
    {
     "name": "stdout",
     "output_type": "stream",
     "text": [
      "(60000, 784) (60000,)\n"
     ]
    }
   ],
   "source": [
    "print(xtrain.shape,ytrain.shape)"
   ]
  },
  {
   "cell_type": "code",
   "execution_count": 8,
   "metadata": {},
   "outputs": [
    {
     "name": "stdout",
     "output_type": "stream",
     "text": [
      "(10000, 784) (10000,)\n"
     ]
    }
   ],
   "source": [
    "print(xtest.shape,ytest.shape)"
   ]
  },
  {
   "cell_type": "code",
   "execution_count": 9,
   "metadata": {},
   "outputs": [],
   "source": [
    "xtrain=np.array(xtrain)\n",
    "xtest=np.array(xtest)\n",
    "xtrain=xtrain.reshape(-1,28,28,1)\n",
    "xtest=xtest.reshape(-1,28,28,1)"
   ]
  },
  {
   "cell_type": "code",
   "execution_count": 10,
   "metadata": {},
   "outputs": [
    {
     "data": {
      "text/plain": [
       "((60000, 28, 28, 1), (10000, 28, 28, 1))"
      ]
     },
     "execution_count": 10,
     "metadata": {},
     "output_type": "execute_result"
    }
   ],
   "source": [
    "xtrain.shape,xtest.shape"
   ]
  },
  {
   "cell_type": "code",
   "execution_count": 11,
   "metadata": {},
   "outputs": [],
   "source": [
    "ytrain=to_categorical(ytrain)\n",
    "ytest=to_categorical(ytest)"
   ]
  },
  {
   "cell_type": "code",
   "execution_count": 12,
   "metadata": {},
   "outputs": [
    {
     "data": {
      "text/plain": [
       "((60000, 10), (10000, 10))"
      ]
     },
     "execution_count": 12,
     "metadata": {},
     "output_type": "execute_result"
    }
   ],
   "source": [
    "ytrain.shape,ytest.shape"
   ]
  },
  {
   "cell_type": "markdown",
   "metadata": {},
   "source": [
    "## Build Convonutional Neural Network (CNN Model)"
   ]
  },
  {
   "cell_type": "code",
   "execution_count": 13,
   "metadata": {},
   "outputs": [],
   "source": [
    "model=Sequential()\n",
    "model.add(Conv2D(filters=32,kernel_size=(3,3),activation='relu',input_shape=(28,28,1))) # Input layer\n",
    "model.add(MaxPool2D(pool_size=(2,2)))\n",
    "model.add(Conv2D(filters=64,kernel_size=(3,3),activation='relu'))\n",
    "model.add(MaxPool2D(pool_size=(2,2)))\n",
    "model.add(Conv2D(filters=128,kernel_size=(3,3),activation='relu'))\n",
    "model.add(Conv2D(filters=32,kernel_size=(3,3),activation='relu'))\n",
    "model.add(Flatten())\n",
    "model.add(Dense(units=10,activation='softmax')) # Output layer"
   ]
  },
  {
   "cell_type": "code",
   "execution_count": 14,
   "metadata": {},
   "outputs": [
    {
     "name": "stdout",
     "output_type": "stream",
     "text": [
      "Model: \"sequential\"\n",
      "_________________________________________________________________\n",
      "Layer (type)                 Output Shape              Param #   \n",
      "=================================================================\n",
      "conv2d (Conv2D)              (None, 26, 26, 32)        320       \n",
      "_________________________________________________________________\n",
      "max_pooling2d (MaxPooling2D) (None, 13, 13, 32)        0         \n",
      "_________________________________________________________________\n",
      "conv2d_1 (Conv2D)            (None, 11, 11, 64)        18496     \n",
      "_________________________________________________________________\n",
      "max_pooling2d_1 (MaxPooling2 (None, 5, 5, 64)          0         \n",
      "_________________________________________________________________\n",
      "conv2d_2 (Conv2D)            (None, 3, 3, 128)         73856     \n",
      "_________________________________________________________________\n",
      "conv2d_3 (Conv2D)            (None, 1, 1, 32)          36896     \n",
      "_________________________________________________________________\n",
      "flatten (Flatten)            (None, 32)                0         \n",
      "_________________________________________________________________\n",
      "dense (Dense)                (None, 10)                330       \n",
      "=================================================================\n",
      "Total params: 129,898\n",
      "Trainable params: 129,898\n",
      "Non-trainable params: 0\n",
      "_________________________________________________________________\n"
     ]
    }
   ],
   "source": [
    "model.summary()"
   ]
  },
  {
   "cell_type": "code",
   "execution_count": 15,
   "metadata": {},
   "outputs": [],
   "source": [
    "# Compile the model\n",
    "model.compile(optimizer='adam',loss='categorical_crossentropy',metrics=['accuracy'])"
   ]
  },
  {
   "cell_type": "code",
   "execution_count": 16,
   "metadata": {},
   "outputs": [],
   "source": [
    "from keras.callbacks import ModelCheckpoint,EarlyStopping\n",
    "# Checkpoint - to get the best model\n",
    "checkpnt=ModelCheckpoint('./best_model.h5',monitor='val_accuracy',verbose=1,save_best_only=True,save_weights_only=False,mode='auto') # Whenever val_accuaracy is increased then current model is saved\n",
    "# Earlystopping - to avoid unnecessary epochs\n",
    "earlystop=EarlyStopping(monitor='val_accuracy',min_delta=0.005,patience=5,verbose=1,mode='auto',restore_best_weights=True) # If val_accuarcy is not improved by 0.005 for 5 epochs then it will early stop"
   ]
  },
  {
   "cell_type": "code",
   "execution_count": 17,
   "metadata": {},
   "outputs": [
    {
     "name": "stdout",
     "output_type": "stream",
     "text": [
      "Epoch 1/20\n",
      "1687/1688 [============================>.] - ETA: 0s - loss: 0.5193 - accuracy: 0.8236\n",
      "Epoch 00001: val_accuracy improved from -inf to 0.86150, saving model to ./best_model.h5\n",
      "1688/1688 [==============================] - 64s 38ms/step - loss: 0.5194 - accuracy: 0.8236 - val_loss: 0.3857 - val_accuracy: 0.8615\n",
      "Epoch 2/20\n",
      "1687/1688 [============================>.] - ETA: 0s - loss: 0.3304 - accuracy: 0.8808\n",
      "Epoch 00002: val_accuracy improved from 0.86150 to 0.88133, saving model to ./best_model.h5\n",
      "1688/1688 [==============================] - 64s 38ms/step - loss: 0.3304 - accuracy: 0.8808 - val_loss: 0.3261 - val_accuracy: 0.8813\n",
      "Epoch 3/20\n",
      "1687/1688 [============================>.] - ETA: 0s - loss: 0.2885 - accuracy: 0.8938\n",
      "Epoch 00003: val_accuracy improved from 0.88133 to 0.88900, saving model to ./best_model.h5\n",
      "1688/1688 [==============================] - 63s 37ms/step - loss: 0.2886 - accuracy: 0.8938 - val_loss: 0.3105 - val_accuracy: 0.8890\n",
      "Epoch 4/20\n",
      "1688/1688 [==============================] - ETA: 0s - loss: 0.2675 - accuracy: 0.9024\n",
      "Epoch 00004: val_accuracy improved from 0.88900 to 0.89533, saving model to ./best_model.h5\n",
      "1688/1688 [==============================] - 63s 38ms/step - loss: 0.2675 - accuracy: 0.9024 - val_loss: 0.2980 - val_accuracy: 0.8953\n",
      "Epoch 5/20\n",
      "1688/1688 [==============================] - ETA: 0s - loss: 0.2471 - accuracy: 0.9094\n",
      "Epoch 00005: val_accuracy did not improve from 0.89533\n",
      "1688/1688 [==============================] - 60s 35ms/step - loss: 0.2471 - accuracy: 0.9094 - val_loss: 0.2959 - val_accuracy: 0.8932\n",
      "Epoch 6/20\n",
      "1686/1688 [============================>.] - ETA: 0s - loss: 0.2287 - accuracy: 0.9159\n",
      "Epoch 00006: val_accuracy did not improve from 0.89533\n",
      "1688/1688 [==============================] - 60s 36ms/step - loss: 0.2288 - accuracy: 0.9159 - val_loss: 0.3244 - val_accuracy: 0.8837\n",
      "Epoch 7/20\n",
      "1687/1688 [============================>.] - ETA: 0s - loss: 0.2118 - accuracy: 0.9210\n",
      "Epoch 00007: val_accuracy improved from 0.89533 to 0.89683, saving model to ./best_model.h5\n",
      "1688/1688 [==============================] - 63s 37ms/step - loss: 0.2118 - accuracy: 0.9210 - val_loss: 0.3125 - val_accuracy: 0.8968\n",
      "Epoch 8/20\n",
      "1687/1688 [============================>.] - ETA: 0s - loss: 0.1980 - accuracy: 0.9271\n",
      "Epoch 00008: val_accuracy did not improve from 0.89683\n",
      "1688/1688 [==============================] - 62s 36ms/step - loss: 0.1980 - accuracy: 0.9271 - val_loss: 0.3009 - val_accuracy: 0.8940\n",
      "Epoch 9/20\n",
      "1688/1688 [==============================] - ETA: 0s - loss: 0.1851 - accuracy: 0.9322\n",
      "Epoch 00009: val_accuracy improved from 0.89683 to 0.90067, saving model to ./best_model.h5\n",
      "1688/1688 [==============================] - 62s 37ms/step - loss: 0.1851 - accuracy: 0.9322 - val_loss: 0.3058 - val_accuracy: 0.9007\n",
      "Epoch 10/20\n",
      "1688/1688 [==============================] - ETA: 0s - loss: 0.1764 - accuracy: 0.9342\n",
      "Epoch 00010: val_accuracy did not improve from 0.90067\n",
      "1688/1688 [==============================] - 62s 36ms/step - loss: 0.1764 - accuracy: 0.9342 - val_loss: 0.3523 - val_accuracy: 0.8955\n",
      "Epoch 11/20\n",
      "1688/1688 [==============================] - ETA: 0s - loss: 0.1599 - accuracy: 0.9402\n",
      "Epoch 00011: val_accuracy did not improve from 0.90067\n",
      "1688/1688 [==============================] - 61s 36ms/step - loss: 0.1599 - accuracy: 0.9402 - val_loss: 0.3755 - val_accuracy: 0.8947\n",
      "Epoch 12/20\n",
      "1687/1688 [============================>.] - ETA: 0s - loss: 0.1573 - accuracy: 0.9416\n",
      "Epoch 00012: val_accuracy did not improve from 0.90067\n",
      "1688/1688 [==============================] - 62s 37ms/step - loss: 0.1573 - accuracy: 0.9416 - val_loss: 0.3693 - val_accuracy: 0.8955\n",
      "Epoch 13/20\n",
      "1687/1688 [============================>.] - ETA: 0s - loss: 0.1454 - accuracy: 0.9466\n",
      "Epoch 00013: val_accuracy did not improve from 0.90067\n",
      "1688/1688 [==============================] - 60s 35ms/step - loss: 0.1453 - accuracy: 0.9466 - val_loss: 0.3676 - val_accuracy: 0.8947\n",
      "Epoch 14/20\n",
      "1687/1688 [============================>.] - ETA: 0s - loss: 0.1377 - accuracy: 0.9481\n",
      "Epoch 00014: val_accuracy did not improve from 0.90067\n",
      "Restoring model weights from the end of the best epoch.\n",
      "1688/1688 [==============================] - 59s 35ms/step - loss: 0.1377 - accuracy: 0.9481 - val_loss: 0.3874 - val_accuracy: 0.8933\n",
      "Epoch 00014: early stopping\n"
     ]
    }
   ],
   "source": [
    "# Train the model\n",
    "hist=model.fit(xtrain,ytrain,epochs=20,batch_size=32,shuffle=True,validation_split=0.1,callbacks=[checkpnt,earlystop])"
   ]
  },
  {
   "cell_type": "code",
   "execution_count": 18,
   "metadata": {},
   "outputs": [],
   "source": [
    "bestModel=load_model('best_model.h5') # Load the best model"
   ]
  },
  {
   "cell_type": "markdown",
   "metadata": {},
   "source": [
    "## Check accuracy of model on testing data"
   ]
  },
  {
   "cell_type": "code",
   "execution_count": 19,
   "metadata": {},
   "outputs": [
    {
     "name": "stdout",
     "output_type": "stream",
     "text": [
      "313/313 [==============================] - 3s 10ms/step - loss: 0.3027 - accuracy: 0.9027\n"
     ]
    },
    {
     "data": {
      "text/plain": [
       "[0.3027240037918091, 0.9027000069618225]"
      ]
     },
     "execution_count": 19,
     "metadata": {},
     "output_type": "execute_result"
    }
   ],
   "source": [
    "bestModel.evaluate(xtest,ytest)"
   ]
  },
  {
   "cell_type": "code",
   "execution_count": 20,
   "metadata": {},
   "outputs": [],
   "source": [
    "y_pred=bestModel.predict(xtest)"
   ]
  },
  {
   "cell_type": "code",
   "execution_count": 21,
   "metadata": {},
   "outputs": [],
   "source": [
    "y_pred=np.argmax(y_pred,axis=1)\n",
    "y_true=np.argmax(ytest,axis=1)"
   ]
  },
  {
   "cell_type": "code",
   "execution_count": 22,
   "metadata": {},
   "outputs": [
    {
     "name": "stdout",
     "output_type": "stream",
     "text": [
      "90.27\n"
     ]
    }
   ],
   "source": [
    "acc=((y_pred==y_true).sum()/y_pred.shape[0])*100\n",
    "print(acc)"
   ]
  },
  {
   "cell_type": "markdown",
   "metadata": {},
   "source": [
    "So we are getting good<b> testing accuracy of 90.27</b>"
   ]
  },
  {
   "cell_type": "code",
   "execution_count": 23,
   "metadata": {},
   "outputs": [],
   "source": [
    "def displayImg(img):\n",
    "    plt.imshow(img.reshape(28,28))\n",
    "    plt.show()"
   ]
  },
  {
   "cell_type": "code",
   "execution_count": 24,
   "metadata": {},
   "outputs": [
    {
     "data": {
      "image/png": "[encoded data removed]",
      "text/plain": [
       "<Figure size 432x288 with 1 Axes>"
      ]
     },
     "metadata": {
      "needs_background": "light"
     },
     "output_type": "display_data"
    },
    {
     "name": "stdout",
     "output_type": "stream",
     "text": [
      "Shirt Shirt\n"
     ]
    }
   ],
   "source": [
    "displayImg(xtest[256])\n",
    "print(labelToClass[y_pred[256]],labelToClass[y_true[256]])"
   ]
  },
  {
   "cell_type": "code",
   "execution_count": 25,
   "metadata": {},
   "outputs": [
    {
     "data": {
      "image/png": "[encoded data removed]",
      "text/plain": [
       "<Figure size 432x288 with 1 Axes>"
      ]
     },
     "metadata": {
      "needs_background": "light"
     },
     "output_type": "display_data"
    },
    {
     "name": "stdout",
     "output_type": "stream",
     "text": [
      "Shirt Shirt\n"
     ]
    }
   ],
   "source": [
    "displayImg(xtest[1025])\n",
    "print(labelToClass[y_pred[1025]],labelToClass[y_true[1025]])"
   ]
  },
  {
   "cell_type": "code",
   "execution_count": 26,
   "metadata": {},
   "outputs": [
    {
     "data": {
      "image/png": "[encoded data removed]",
      "text/plain": [
       "<Figure size 432x288 with 1 Axes>"
      ]
     },
     "metadata": {
      "needs_background": "light"
     },
     "output_type": "display_data"
    },
    {
     "name": "stdout",
     "output_type": "stream",
     "text": [
      "Sandal Sandal\n"
     ]
    }
   ],
   "source": [
    "displayImg(xtest[999])\n",
    "print(labelToClass[y_pred[999]],labelToClass[y_true[999]])"
   ]
  },
  {
   "cell_type": "code",
   "execution_count": 27,
   "metadata": {},
   "outputs": [
    {
     "data": {
      "image/png": "[encoded data removed]",
      "text/plain": [
       "<Figure size 432x288 with 1 Axes>"
      ]
     },
     "metadata": {
      "needs_background": "light"
     },
     "output_type": "display_data"
    },
    {
     "name": "stdout",
     "output_type": "stream",
     "text": [
      "Bag Bag\n"
     ]
    }
   ],
   "source": [
    "displayImg(xtest[7856])\n",
    "print(labelToClass[y_pred[7856]],labelToClass[y_true[7856]])"
   ]
  },
  {
   "cell_type": "code",
   "execution_count": 28,
   "metadata": {},
   "outputs": [
    {
     "data": {
      "image/png": "[encoded data removed]",
      "text/plain": [
       "<Figure size 432x288 with 1 Axes>"
      ]
     },
     "metadata": {
      "needs_background": "light"
     },
     "output_type": "display_data"
    },
    {
     "name": "stdout",
     "output_type": "stream",
     "text": [
      "Pullover Pullover\n"
     ]
    }
   ],
   "source": [
    "displayImg(xtest[2])\n",
    "print(labelToClass[y_pred[2]],labelToClass[y_true[2]])"
   ]
  },
  {
   "cell_type": "markdown",
   "metadata": {},
   "source": [
    "## Conclusion"
   ]
  },
  {
   "cell_type": "markdown",
   "metadata": {},
   "source": [
    "For this kind of MNIST dataset we are getting <b>testing accuracy of 90.27</b> using CNN model.It contains a lot of datapoints so CNN works better here."
   ]
  }
 ],
 "metadata": {
  "kernelspec": {
   "display_name": "Python 3",
   "language": "python",
   "name": "python3"
  },
  "language_info": {
   "codemirror_mode": {
    "name": "ipython",
    "version": 3
   },
   "file_extension": ".py",
   "mimetype": "text/x-python",
   "name": "python",
   "nbconvert_exporter": "python",
   "pygments_lexer": "ipython3",
   "version": "3.7.7"
  }
 },
 "nbformat": 4,
 "nbformat_minor": 4
}
